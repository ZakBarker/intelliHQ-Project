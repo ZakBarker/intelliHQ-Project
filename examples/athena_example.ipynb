{
 "cells": [
  {
   "cell_type": "markdown",
   "metadata": {},
   "source": [
    "# Athena Example\n",
    "\n",
    "Example using Athena code"
   ]
  },
  {
   "cell_type": "code",
   "execution_count": 5,
   "metadata": {},
   "outputs": [],
   "source": [
    "import sys\n",
    "sys.path.append(\"../\")\n",
    "sys.path.append(\"../../\")"
   ]
  },
  {
   "cell_type": "code",
   "execution_count": 6,
   "metadata": {},
   "outputs": [
    {
     "ename": "ModuleNotFoundError",
     "evalue": "No module named 'cv2'",
     "output_type": "error",
     "traceback": [
      "\u001b[0;31m---------------------------------------------------------------------------\u001b[0m",
      "\u001b[0;31mModuleNotFoundError\u001b[0m                       Traceback (most recent call last)",
      "\u001b[0;32m<ipython-input-6-34e2c13fa94c>\u001b[0m in \u001b[0;36m<module>\u001b[0;34m\u001b[0m\n\u001b[0;32m----> 1\u001b[0;31m \u001b[0;32mimport\u001b[0m \u001b[0mcv2\u001b[0m\u001b[0;34m\u001b[0m\u001b[0;34m\u001b[0m\u001b[0m\n\u001b[0m\u001b[1;32m      2\u001b[0m \u001b[0;32mimport\u001b[0m \u001b[0mmatplotlib\u001b[0m\u001b[0;34m.\u001b[0m\u001b[0mpyplot\u001b[0m \u001b[0;32mas\u001b[0m \u001b[0mplt\u001b[0m\u001b[0;34m\u001b[0m\u001b[0;34m\u001b[0m\u001b[0m\n\u001b[1;32m      3\u001b[0m \u001b[0;34m\u001b[0m\u001b[0m\n\u001b[1;32m      4\u001b[0m \u001b[0;32mfrom\u001b[0m \u001b[0msrc\u001b[0m\u001b[0;34m.\u001b[0m\u001b[0mdisplay\u001b[0m \u001b[0;32mimport\u001b[0m \u001b[0mpeaks\u001b[0m \u001b[0;32mas\u001b[0m \u001b[0mpeak_display\u001b[0m\u001b[0;34m\u001b[0m\u001b[0;34m\u001b[0m\u001b[0m\n\u001b[1;32m      5\u001b[0m \u001b[0;32mfrom\u001b[0m \u001b[0msrc\u001b[0m\u001b[0;34m.\u001b[0m\u001b[0mimage\u001b[0m \u001b[0;32mimport\u001b[0m \u001b[0mload_s3_image\u001b[0m\u001b[0;34m\u001b[0m\u001b[0;34m\u001b[0m\u001b[0m\n",
      "\u001b[0;31mModuleNotFoundError\u001b[0m: No module named 'cv2'"
     ]
    }
   ],
   "source": [
    "import cv2\n",
    "import matplotlib.pyplot as plt\n",
    "\n",
    "from src.display import peaks as peak_display\n",
    "from src.image import load_s3_image\n",
    "from cloud import query"
   ]
  },
  {
   "cell_type": "markdown",
   "metadata": {},
   "source": [
    "## Driving Conditions Query"
   ]
  },
  {
   "cell_type": "code",
   "execution_count": 3,
   "metadata": {},
   "outputs": [
    {
     "name": "stdout",
     "output_type": "stream",
     "text": [
      "Execution ID: 1f2e5cf1-c3b8-49b3-9b69-2a89fe27eade\n",
      "RUNNING\n",
      "SUCCEEDED\n",
      "Query \"SELECT * FROM \"fatiguem8_db\".\"conditions\" WHERE scene like 'off_street' limit 10;\" finished.\n"
     ]
    },
    {
     "data": {
      "text/html": [
       "<div>\n",
       "<style scoped>\n",
       "    .dataframe tbody tr th:only-of-type {\n",
       "        vertical-align: middle;\n",
       "    }\n",
       "\n",
       "    .dataframe tbody tr th {\n",
       "        vertical-align: top;\n",
       "    }\n",
       "\n",
       "    .dataframe thead th {\n",
       "        text-align: right;\n",
       "    }\n",
       "</style>\n",
       "<table border=\"1\" class=\"dataframe\">\n",
       "  <thead>\n",
       "    <tr style=\"text-align: right;\">\n",
       "      <th></th>\n",
       "      <th>time_of_day</th>\n",
       "      <th>scene</th>\n",
       "      <th>conditions</th>\n",
       "      <th>key</th>\n",
       "      <th>bucket_name</th>\n",
       "      <th>timestamp</th>\n",
       "      <th>id</th>\n",
       "      <th>session</th>\n",
       "    </tr>\n",
       "  </thead>\n",
       "  <tbody>\n",
       "    <tr>\n",
       "      <th>0</th>\n",
       "      <td>undefined_tod</td>\n",
       "      <td>off_street</td>\n",
       "      <td>undefined_w</td>\n",
       "      <td>bd09fd5221591533d2b3d25d58481585/2000-01-01/01...</td>\n",
       "      <td>fatiguem8-data-store</td>\n",
       "      <td>9.467251e+08</td>\n",
       "      <td>bd09fd5221591533d2b3d25d58481585</td>\n",
       "      <td>2000-01-01</td>\n",
       "    </tr>\n",
       "    <tr>\n",
       "      <th>1</th>\n",
       "      <td>dawn/dusk</td>\n",
       "      <td>off_street</td>\n",
       "      <td>overcast</td>\n",
       "      <td>f63b1829469da9362d8d6c6dc3ed72ff/1564348773.90...</td>\n",
       "      <td>fatiguem8-data-store</td>\n",
       "      <td>1.564385e+09</td>\n",
       "      <td>f63b1829469da9362d8d6c6dc3ed72ff</td>\n",
       "      <td>1564348773.9079413</td>\n",
       "    </tr>\n",
       "    <tr>\n",
       "      <th>2</th>\n",
       "      <td>dawn/dusk</td>\n",
       "      <td>off_street</td>\n",
       "      <td>overcast</td>\n",
       "      <td>f63b1829469da9362d8d6c6dc3ed72ff/1564348773.90...</td>\n",
       "      <td>fatiguem8-data-store</td>\n",
       "      <td>1.564385e+09</td>\n",
       "      <td>f63b1829469da9362d8d6c6dc3ed72ff</td>\n",
       "      <td>1564348773.9079413</td>\n",
       "    </tr>\n",
       "    <tr>\n",
       "      <th>3</th>\n",
       "      <td>dawn/dusk</td>\n",
       "      <td>off_street</td>\n",
       "      <td>overcast</td>\n",
       "      <td>f63b1829469da9362d8d6c6dc3ed72ff/1564348773.90...</td>\n",
       "      <td>fatiguem8-data-store</td>\n",
       "      <td>1.564385e+09</td>\n",
       "      <td>f63b1829469da9362d8d6c6dc3ed72ff</td>\n",
       "      <td>1564348773.9079413</td>\n",
       "    </tr>\n",
       "    <tr>\n",
       "      <th>4</th>\n",
       "      <td>dawn/dusk</td>\n",
       "      <td>off_street</td>\n",
       "      <td>overcast</td>\n",
       "      <td>f63b1829469da9362d8d6c6dc3ed72ff/1564348773.90...</td>\n",
       "      <td>fatiguem8-data-store</td>\n",
       "      <td>1.564385e+09</td>\n",
       "      <td>f63b1829469da9362d8d6c6dc3ed72ff</td>\n",
       "      <td>1564348773.9079413</td>\n",
       "    </tr>\n",
       "  </tbody>\n",
       "</table>\n",
       "</div>"
      ],
      "text/plain": [
       "     time_of_day       scene   conditions  \\\n",
       "0  undefined_tod  off_street  undefined_w   \n",
       "1      dawn/dusk  off_street     overcast   \n",
       "2      dawn/dusk  off_street     overcast   \n",
       "3      dawn/dusk  off_street     overcast   \n",
       "4      dawn/dusk  off_street     overcast   \n",
       "\n",
       "                                                 key           bucket_name  \\\n",
       "0  bd09fd5221591533d2b3d25d58481585/2000-01-01/01...  fatiguem8-data-store   \n",
       "1  f63b1829469da9362d8d6c6dc3ed72ff/1564348773.90...  fatiguem8-data-store   \n",
       "2  f63b1829469da9362d8d6c6dc3ed72ff/1564348773.90...  fatiguem8-data-store   \n",
       "3  f63b1829469da9362d8d6c6dc3ed72ff/1564348773.90...  fatiguem8-data-store   \n",
       "4  f63b1829469da9362d8d6c6dc3ed72ff/1564348773.90...  fatiguem8-data-store   \n",
       "\n",
       "      timestamp                                id             session  \n",
       "0  9.467251e+08  bd09fd5221591533d2b3d25d58481585          2000-01-01  \n",
       "1  1.564385e+09  f63b1829469da9362d8d6c6dc3ed72ff  1564348773.9079413  \n",
       "2  1.564385e+09  f63b1829469da9362d8d6c6dc3ed72ff  1564348773.9079413  \n",
       "3  1.564385e+09  f63b1829469da9362d8d6c6dc3ed72ff  1564348773.9079413  \n",
       "4  1.564385e+09  f63b1829469da9362d8d6c6dc3ed72ff  1564348773.9079413  "
      ]
     },
     "execution_count": 3,
     "metadata": {},
     "output_type": "execute_result"
    }
   ],
   "source": [
    "sql = 'SELECT * FROM \"fatiguem8_db\".\"conditions\" WHERE scene like \\'off_street\\' limit 10;'\n",
    "df = query(sql)\n",
    "df.head()"
   ]
  },
  {
   "cell_type": "code",
   "execution_count": 5,
   "metadata": {},
   "outputs": [],
   "source": [
    "def load_image(row):\n",
    "    key = row[\"key\"]\n",
    "    bucket = row[\"bucket_name\"]\n",
    "    img = load_s3_image(key, bucket)\n",
    "    return img"
   ]
  },
  {
   "cell_type": "code",
   "execution_count": 4,
   "metadata": {},
   "outputs": [
    {
     "ename": "NameError",
     "evalue": "name 'load_image' is not defined",
     "output_type": "error",
     "traceback": [
      "\u001b[0;31m---------------------------------------------------------------------------\u001b[0m",
      "\u001b[0;31mNameError\u001b[0m                                 Traceback (most recent call last)",
      "\u001b[0;32m<ipython-input-4-b5d8960db451>\u001b[0m in \u001b[0;36m<module>\u001b[0;34m\u001b[0m\n\u001b[0;32m----> 1\u001b[0;31m \u001b[0mimg\u001b[0m \u001b[0;34m=\u001b[0m \u001b[0mload_image\u001b[0m\u001b[0;34m(\u001b[0m\u001b[0mdf\u001b[0m\u001b[0;34m.\u001b[0m\u001b[0miloc\u001b[0m\u001b[0;34m[\u001b[0m\u001b[0;36m1\u001b[0m\u001b[0;34m]\u001b[0m\u001b[0;34m)\u001b[0m\u001b[0;34m\u001b[0m\u001b[0;34m\u001b[0m\u001b[0m\n\u001b[0m\u001b[1;32m      2\u001b[0m \u001b[0mplt\u001b[0m\u001b[0;34m.\u001b[0m\u001b[0mimshow\u001b[0m\u001b[0;34m(\u001b[0m\u001b[0mimg\u001b[0m\u001b[0;34m)\u001b[0m\u001b[0;34m\u001b[0m\u001b[0;34m\u001b[0m\u001b[0m\n",
      "\u001b[0;31mNameError\u001b[0m: name 'load_image' is not defined"
     ]
    }
   ],
   "source": [
    "img = load_image(df.iloc[1])\n",
    "plt.imshow(img)"
   ]
  },
  {
   "cell_type": "markdown",
   "metadata": {},
   "source": [
    "## ECG Query"
   ]
  },
  {
   "cell_type": "code",
   "execution_count": 7,
   "metadata": {},
   "outputs": [
    {
     "name": "stdout",
     "output_type": "stream",
     "text": [
      "Execution ID: ca7e5768-df84-4ab3-9f85-447fcc8141b1\n",
      "RUNNING\n",
      "RUNNING\n",
      "SUCCEEDED\n",
      "Query \"SELECT * FROM \"fatiguem8_db\".\"ecg\" AS ecg WHERE          ecg.id LIKE '68fc1ba8befa66a396757ef874f40661'         AND ecg.session LIKE '1560726746.9893422'         ORDER BY  ecg.timestamp ASC\" finished.\n"
     ]
    },
    {
     "data": {
      "text/html": [
       "<div>\n",
       "<style scoped>\n",
       "    .dataframe tbody tr th:only-of-type {\n",
       "        vertical-align: middle;\n",
       "    }\n",
       "\n",
       "    .dataframe tbody tr th {\n",
       "        vertical-align: top;\n",
       "    }\n",
       "\n",
       "    .dataframe thead th {\n",
       "        text-align: right;\n",
       "    }\n",
       "</style>\n",
       "<table border=\"1\" class=\"dataframe\">\n",
       "  <thead>\n",
       "    <tr style=\"text-align: right;\">\n",
       "      <th></th>\n",
       "      <th>ecg_signal</th>\n",
       "      <th>timestamp</th>\n",
       "      <th>id</th>\n",
       "      <th>session</th>\n",
       "    </tr>\n",
       "  </thead>\n",
       "  <tbody>\n",
       "    <tr>\n",
       "      <th>0</th>\n",
       "      <td>121</td>\n",
       "      <td>1.560763e+09</td>\n",
       "      <td>68fc1ba8befa66a396757ef874f40661</td>\n",
       "      <td>1.560727e+09</td>\n",
       "    </tr>\n",
       "    <tr>\n",
       "      <th>1</th>\n",
       "      <td>121</td>\n",
       "      <td>1.560763e+09</td>\n",
       "      <td>68fc1ba8befa66a396757ef874f40661</td>\n",
       "      <td>1.560727e+09</td>\n",
       "    </tr>\n",
       "    <tr>\n",
       "      <th>2</th>\n",
       "      <td>121</td>\n",
       "      <td>1.560763e+09</td>\n",
       "      <td>68fc1ba8befa66a396757ef874f40661</td>\n",
       "      <td>1.560727e+09</td>\n",
       "    </tr>\n",
       "    <tr>\n",
       "      <th>3</th>\n",
       "      <td>121</td>\n",
       "      <td>1.560763e+09</td>\n",
       "      <td>68fc1ba8befa66a396757ef874f40661</td>\n",
       "      <td>1.560727e+09</td>\n",
       "    </tr>\n",
       "    <tr>\n",
       "      <th>4</th>\n",
       "      <td>121</td>\n",
       "      <td>1.560763e+09</td>\n",
       "      <td>68fc1ba8befa66a396757ef874f40661</td>\n",
       "      <td>1.560727e+09</td>\n",
       "    </tr>\n",
       "  </tbody>\n",
       "</table>\n",
       "</div>"
      ],
      "text/plain": [
       "   ecg_signal     timestamp                                id       session\n",
       "0         121  1.560763e+09  68fc1ba8befa66a396757ef874f40661  1.560727e+09\n",
       "1         121  1.560763e+09  68fc1ba8befa66a396757ef874f40661  1.560727e+09\n",
       "2         121  1.560763e+09  68fc1ba8befa66a396757ef874f40661  1.560727e+09\n",
       "3         121  1.560763e+09  68fc1ba8befa66a396757ef874f40661  1.560727e+09\n",
       "4         121  1.560763e+09  68fc1ba8befa66a396757ef874f40661  1.560727e+09"
      ]
     },
     "execution_count": 7,
     "metadata": {},
     "output_type": "execute_result"
    }
   ],
   "source": [
    "sql = 'SELECT * FROM \"fatiguem8_db\".\"ecg\" AS ecg WHERE  \\\n",
    "        ecg.id LIKE \\'68fc1ba8befa66a396757ef874f40661\\' \\\n",
    "        AND ecg.session LIKE \\'1560726746.9893422\\' \\\n",
    "        ORDER BY  ecg.timestamp ASC'\n",
    "df = query(sql)\n",
    "df.head()"
   ]
  },
  {
   "cell_type": "code",
   "execution_count": 8,
   "metadata": {},
   "outputs": [
    {
     "data": {
      "text/plain": [
       "1450944"
      ]
     },
     "execution_count": 8,
     "metadata": {},
     "output_type": "execute_result"
    }
   ],
   "source": [
    "len(df)"
   ]
  },
  {
   "cell_type": "code",
   "execution_count": 9,
   "metadata": {},
   "outputs": [
    {
     "data": {
      "text/plain": [
       "[<matplotlib.lines.Line2D at 0x7fde9586b940>]"
      ]
     },
     "execution_count": 9,
     "metadata": {},
     "output_type": "execute_result"
    },
    {
     "data": {
      "image/png": "[encoded data removed]",
      "text/plain": [
       "<Figure size 1008x288 with 1 Axes>"
      ]
     },
     "metadata": {
      "needs_background": "light"
     },
     "output_type": "display_data"
    }
   ],
   "source": [
    "fig, ax = plt.subplots(figsize=(14, 4))\n",
    "ax.set_ylim((0, 255))\n",
    "ax.plot(df[\"ecg_signal\"][254000:255000], color=\"g\")"
   ]
  },
  {
   "cell_type": "markdown",
   "metadata": {},
   "source": [
    "## R Peaks Query"
   ]
  },
  {
   "cell_type": "code",
   "execution_count": 10,
   "metadata": {},
   "outputs": [],
   "source": [
    "def plot_peaks(peaks, signal, min_range, max_range, fig=None, ax=None):\n",
    "    if fig is None or ax is None:\n",
    "        fig, ax = plt.subplots(figsize=(14, 4))\n",
    "    ax.set_ylim(0, 255)\n",
    "    x_peaks, y_peaks = peak_display.find_peaks_in_range(peaks, signal, min_range, max_range)\n",
    "    x_peaks = peak_display.snap_r_peaks(signal, x_peaks)\n",
    "    \n",
    "    ax.plot(signal[min_range:max_range], 'g')\n",
    "    ax.plot(x_peaks, y_peaks, 'ro')\n",
    "    return ax"
   ]
  },
  {
   "cell_type": "code",
   "execution_count": 11,
   "metadata": {},
   "outputs": [
    {
     "name": "stdout",
     "output_type": "stream",
     "text": [
      "Execution ID: 0843a626-3f61-43ad-b4ec-299fa7ac1a4e\n",
      "RUNNING\n",
      "SUCCEEDED\n",
      "Query \"SELECT * FROM \"fatiguem8_db\".\"meg_peak_detect\" AS peak WHERE          peak.id LIKE '68fc1ba8befa66a396757ef874f40661'         AND peak.session LIKE '1560726746.9893422'         AND peak.r_peak > 254000 and peak.r_peak < 255000         ORDER BY  peak.timestamp ASC\" finished.\n"
     ]
    },
    {
     "data": {
      "text/html": [
       "<div>\n",
       "<style scoped>\n",
       "    .dataframe tbody tr th:only-of-type {\n",
       "        vertical-align: middle;\n",
       "    }\n",
       "\n",
       "    .dataframe tbody tr th {\n",
       "        vertical-align: top;\n",
       "    }\n",
       "\n",
       "    .dataframe thead th {\n",
       "        text-align: right;\n",
       "    }\n",
       "</style>\n",
       "<table border=\"1\" class=\"dataframe\">\n",
       "  <thead>\n",
       "    <tr style=\"text-align: right;\">\n",
       "      <th></th>\n",
       "      <th>r_peak</th>\n",
       "      <th>timestamp</th>\n",
       "      <th>id</th>\n",
       "      <th>session</th>\n",
       "    </tr>\n",
       "  </thead>\n",
       "  <tbody>\n",
       "    <tr>\n",
       "      <th>0</th>\n",
       "      <td>254229</td>\n",
       "      <td>1.560764e+09</td>\n",
       "      <td>68fc1ba8befa66a396757ef874f40661</td>\n",
       "      <td>1.560727e+09</td>\n",
       "    </tr>\n",
       "    <tr>\n",
       "      <th>1</th>\n",
       "      <td>254494</td>\n",
       "      <td>1.560764e+09</td>\n",
       "      <td>68fc1ba8befa66a396757ef874f40661</td>\n",
       "      <td>1.560727e+09</td>\n",
       "    </tr>\n",
       "    <tr>\n",
       "      <th>2</th>\n",
       "      <td>254735</td>\n",
       "      <td>1.560764e+09</td>\n",
       "      <td>68fc1ba8befa66a396757ef874f40661</td>\n",
       "      <td>1.560727e+09</td>\n",
       "    </tr>\n",
       "    <tr>\n",
       "      <th>3</th>\n",
       "      <td>254967</td>\n",
       "      <td>1.560764e+09</td>\n",
       "      <td>68fc1ba8befa66a396757ef874f40661</td>\n",
       "      <td>1.560727e+09</td>\n",
       "    </tr>\n",
       "  </tbody>\n",
       "</table>\n",
       "</div>"
      ],
      "text/plain": [
       "   r_peak     timestamp                                id       session\n",
       "0  254229  1.560764e+09  68fc1ba8befa66a396757ef874f40661  1.560727e+09\n",
       "1  254494  1.560764e+09  68fc1ba8befa66a396757ef874f40661  1.560727e+09\n",
       "2  254735  1.560764e+09  68fc1ba8befa66a396757ef874f40661  1.560727e+09\n",
       "3  254967  1.560764e+09  68fc1ba8befa66a396757ef874f40661  1.560727e+09"
      ]
     },
     "execution_count": 11,
     "metadata": {},
     "output_type": "execute_result"
    }
   ],
   "source": [
    "sql = 'SELECT * FROM \"fatiguem8_db\".\"meg_peak_detect\" AS peak WHERE  \\\n",
    "        peak.id LIKE \\'68fc1ba8befa66a396757ef874f40661\\' \\\n",
    "        AND peak.session LIKE \\'1560726746.9893422\\' \\\n",
    "        AND peak.r_peak > 254000 and peak.r_peak < 255000 \\\n",
    "        ORDER BY  peak.timestamp ASC'\n",
    "df_peaks = query(sql)\n",
    "df_peaks.head()"
   ]
  },
  {
   "cell_type": "code",
   "execution_count": 12,
   "metadata": {},
   "outputs": [
    {
     "data": {
      "text/plain": [
       "<matplotlib.axes._subplots.AxesSubplot at 0x7fde9795db38>"
      ]
     },
     "execution_count": 12,
     "metadata": {},
     "output_type": "execute_result"
    },
    {
     "data": {
      "image/png": "[encoded data removed]",
      "text/plain": [
       "<Figure size 1008x288 with 1 Axes>"
      ]
     },
     "metadata": {
      "needs_background": "light"
     },
     "output_type": "display_data"
    }
   ],
   "source": [
    "plot_peaks(df_peaks[\"r_peak\"], list(df[\"ecg_signal\"]), 254000, 255000)"
   ]
  }
 ],
 "metadata": {
  "kernelspec": {
   "display_name": "Python 3",
   "language": "python",
   "name": "python3"
  },
  "language_info": {
   "codemirror_mode": {
    "name": "ipython",
    "version": 3
   },
   "file_extension": ".py",
   "mimetype": "text/x-python",
   "name": "python",
   "nbconvert_exporter": "python",
   "pygments_lexer": "ipython3",
   "version": "3.6.9"
  }
 },
 "nbformat": 4,
 "nbformat_minor": 2
}
